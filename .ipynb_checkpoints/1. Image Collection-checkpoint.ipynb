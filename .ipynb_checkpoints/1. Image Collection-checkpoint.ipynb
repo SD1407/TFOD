{
 "cells": [
  {
   "cell_type": "markdown",
   "metadata": {},
   "source": [
    "# 1. Import Dependencies"
   ]
  },
  {
   "cell_type": "code",
   "execution_count": 1,
   "metadata": {},
   "outputs": [
    {
     "name": "stdout",
     "output_type": "stream",
     "text": [
      "Collecting opencv-python\n",
      "  Downloading opencv_python-4.7.0.72-cp37-abi3-win_amd64.whl (38.2 MB)\n",
      "                                              0.0/38.2 MB ? eta -:--:--\n",
      "                                              0.1/38.2 MB 1.1 MB/s eta 0:00:35\n",
      "                                              0.2/38.2 MB 2.3 MB/s eta 0:00:17\n",
      "                                              0.4/38.2 MB 2.8 MB/s eta 0:00:14\n",
      "                                              0.7/38.2 MB 3.4 MB/s eta 0:00:11\n",
      "     -                                        1.1/38.2 MB 4.6 MB/s eta 0:00:09\n",
      "     -                                        1.3/38.2 MB 4.5 MB/s eta 0:00:09\n",
      "     -                                        1.4/38.2 MB 4.4 MB/s eta 0:00:09\n",
      "     -                                        1.4/38.2 MB 4.4 MB/s eta 0:00:09\n",
      "     -                                        1.4/38.2 MB 4.4 MB/s eta 0:00:09\n",
      "     -                                        1.4/38.2 MB 3.2 MB/s eta 0:00:12\n",
      "     -                                        1.8/38.2 MB 3.4 MB/s eta 0:00:11\n",
      "     --                                       2.0/38.2 MB 3.6 MB/s eta 0:00:11\n",
      "     --                                       2.2/38.2 MB 3.6 MB/s eta 0:00:11\n",
      "     --                                       2.4/38.2 MB 3.6 MB/s eta 0:00:10\n",
      "     --                                       2.6/38.2 MB 3.6 MB/s eta 0:00:10\n",
      "     --                                       2.7/38.2 MB 3.6 MB/s eta 0:00:10\n",
      "     ---                                      2.9/38.2 MB 3.7 MB/s eta 0:00:10\n",
      "     ---                                      3.1/38.2 MB 3.7 MB/s eta 0:00:10\n",
      "     ---                                      3.3/38.2 MB 3.7 MB/s eta 0:00:10\n",
      "     ---                                      3.4/38.2 MB 3.7 MB/s eta 0:00:10\n",
      "     ---                                      3.4/38.2 MB 3.7 MB/s eta 0:00:10\n",
      "     ---                                      3.4/38.2 MB 3.7 MB/s eta 0:00:10\n",
      "     ---                                      3.7/38.2 MB 3.5 MB/s eta 0:00:10\n",
      "     ----                                     3.9/38.2 MB 3.5 MB/s eta 0:00:10\n",
      "     ----                                     4.3/38.2 MB 3.7 MB/s eta 0:00:10\n",
      "     ----                                     4.5/38.2 MB 3.8 MB/s eta 0:00:09\n",
      "     ----                                     4.7/38.2 MB 3.8 MB/s eta 0:00:09\n",
      "     -----                                    4.9/38.2 MB 3.8 MB/s eta 0:00:09\n",
      "     -----                                    5.1/38.2 MB 3.8 MB/s eta 0:00:09\n",
      "     -----                                    5.2/38.2 MB 3.8 MB/s eta 0:00:09\n",
      "     -----                                    5.4/38.2 MB 3.8 MB/s eta 0:00:09\n",
      "     -----                                    5.6/38.2 MB 3.8 MB/s eta 0:00:09\n",
      "     ------                                   5.8/38.2 MB 3.8 MB/s eta 0:00:09\n",
      "     ------                                   6.0/38.2 MB 3.8 MB/s eta 0:00:09\n",
      "     ------                                   6.1/38.2 MB 3.8 MB/s eta 0:00:09\n",
      "     ------                                   6.3/38.2 MB 3.8 MB/s eta 0:00:09\n",
      "     ------                                   6.5/38.2 MB 3.8 MB/s eta 0:00:09\n",
      "     ------                                   6.7/38.2 MB 3.8 MB/s eta 0:00:09\n",
      "     -------                                  6.9/38.2 MB 3.8 MB/s eta 0:00:09\n",
      "     -------                                  7.0/38.2 MB 3.8 MB/s eta 0:00:09\n",
      "     -------                                  7.2/38.2 MB 3.8 MB/s eta 0:00:09\n",
      "     -------                                  7.2/38.2 MB 3.8 MB/s eta 0:00:09\n",
      "     -------                                  7.2/38.2 MB 3.8 MB/s eta 0:00:09\n",
      "     -------                                  7.2/38.2 MB 3.8 MB/s eta 0:00:09\n",
      "     -------                                  7.2/38.2 MB 3.8 MB/s eta 0:00:09\n",
      "     -------                                  7.2/38.2 MB 3.8 MB/s eta 0:00:09\n",
      "     -------                                  7.2/38.2 MB 3.8 MB/s eta 0:00:09\n",
      "     -------                                  7.6/38.2 MB 3.5 MB/s eta 0:00:09\n",
      "     --------                                 7.6/38.2 MB 3.4 MB/s eta 0:00:10\n",
      "     --------                                 7.9/38.2 MB 3.4 MB/s eta 0:00:09\n",
      "     --------                                 7.9/38.2 MB 3.4 MB/s eta 0:00:09\n",
      "     --------                                 8.0/38.2 MB 3.3 MB/s eta 0:00:10\n",
      "     --------                                 8.1/38.2 MB 3.3 MB/s eta 0:00:10\n",
      "     --------                                 8.3/38.2 MB 3.3 MB/s eta 0:00:09\n",
      "     --------                                 8.4/38.2 MB 3.3 MB/s eta 0:00:10\n",
      "     --------                                 8.5/38.2 MB 3.3 MB/s eta 0:00:10\n",
      "     ---------                                8.6/38.2 MB 3.3 MB/s eta 0:00:10\n",
      "     ---------                                8.7/38.2 MB 3.2 MB/s eta 0:00:10\n",
      "     ---------                                8.8/38.2 MB 3.2 MB/s eta 0:00:10\n",
      "     ---------                                8.8/38.2 MB 3.2 MB/s eta 0:00:10\n",
      "     ---------                                8.9/38.2 MB 3.2 MB/s eta 0:00:10\n",
      "     ---------                                9.0/38.2 MB 3.1 MB/s eta 0:00:10\n",
      "     ---------                                9.1/38.2 MB 3.1 MB/s eta 0:00:10\n",
      "     ---------                                9.2/38.2 MB 3.1 MB/s eta 0:00:10\n",
      "     ---------                                9.4/38.2 MB 3.1 MB/s eta 0:00:10\n",
      "     ----------                               9.6/38.2 MB 3.1 MB/s eta 0:00:10\n",
      "     ----------                               9.8/38.2 MB 3.1 MB/s eta 0:00:10\n",
      "     ----------                               9.9/38.2 MB 3.1 MB/s eta 0:00:09\n",
      "     ----------                               10.1/38.2 MB 3.2 MB/s eta 0:00:09\n",
      "     ----------                               10.3/38.2 MB 3.2 MB/s eta 0:00:09\n",
      "     ----------                               10.5/38.2 MB 3.2 MB/s eta 0:00:09\n",
      "     -----------                              10.7/38.2 MB 3.2 MB/s eta 0:00:09\n",
      "     -----------                              10.8/38.2 MB 3.2 MB/s eta 0:00:09\n",
      "     -----------                              11.0/38.2 MB 3.1 MB/s eta 0:00:09\n",
      "     -----------                              11.2/38.2 MB 3.1 MB/s eta 0:00:09\n",
      "     -----------                              11.4/38.2 MB 3.1 MB/s eta 0:00:09\n",
      "     ------------                             11.6/38.2 MB 3.1 MB/s eta 0:00:09\n",
      "     ------------                             11.8/38.2 MB 3.2 MB/s eta 0:00:09\n",
      "     ------------                             11.9/38.2 MB 3.2 MB/s eta 0:00:09\n",
      "     ------------                             12.1/38.2 MB 3.2 MB/s eta 0:00:09\n",
      "     ------------                             12.3/38.2 MB 3.2 MB/s eta 0:00:09\n",
      "     -------------                            12.5/38.2 MB 3.2 MB/s eta 0:00:09\n",
      "     -------------                            12.7/38.2 MB 3.2 MB/s eta 0:00:08\n",
      "     -------------                            12.8/38.2 MB 3.2 MB/s eta 0:00:08\n",
      "     -------------                            13.0/38.2 MB 3.2 MB/s eta 0:00:08\n",
      "     -------------                            13.2/38.2 MB 3.2 MB/s eta 0:00:08\n",
      "     --------------                           13.4/38.2 MB 3.2 MB/s eta 0:00:08\n",
      "     --------------                           13.6/38.2 MB 3.2 MB/s eta 0:00:08\n",
      "     --------------                           13.7/38.2 MB 3.3 MB/s eta 0:00:08\n",
      "     --------------                           13.9/38.2 MB 3.3 MB/s eta 0:00:08\n",
      "     --------------                           14.1/38.2 MB 3.3 MB/s eta 0:00:08\n",
      "     --------------                           14.3/38.2 MB 3.2 MB/s eta 0:00:08\n",
      "     ---------------                          14.4/38.2 MB 3.2 MB/s eta 0:00:08\n",
      "     ---------------                          14.6/38.2 MB 3.2 MB/s eta 0:00:08\n",
      "     ---------------                          14.8/38.2 MB 3.2 MB/s eta 0:00:08\n",
      "     ---------------                          15.0/38.2 MB 3.2 MB/s eta 0:00:08\n",
      "     ---------------                          15.2/38.2 MB 3.2 MB/s eta 0:00:08\n",
      "     ----------------                         15.3/38.2 MB 3.2 MB/s eta 0:00:08\n",
      "     ----------------                         15.5/38.2 MB 3.2 MB/s eta 0:00:08\n",
      "     ----------------                         15.7/38.2 MB 3.2 MB/s eta 0:00:08\n",
      "     ----------------                         15.9/38.2 MB 3.2 MB/s eta 0:00:07\n",
      "     ----------------                         16.1/38.2 MB 3.2 MB/s eta 0:00:07\n",
      "     -----------------                        16.3/38.2 MB 3.2 MB/s eta 0:00:07\n",
      "     -----------------                        16.5/38.2 MB 3.2 MB/s eta 0:00:07\n",
      "     -----------------                        16.6/38.2 MB 3.2 MB/s eta 0:00:07\n",
      "     -----------------                        16.8/38.2 MB 3.2 MB/s eta 0:00:07\n",
      "     -----------------                        17.0/38.2 MB 3.2 MB/s eta 0:00:07\n",
      "     ------------------                       17.2/38.2 MB 3.2 MB/s eta 0:00:07\n",
      "     ------------------                       17.4/38.2 MB 3.2 MB/s eta 0:00:07\n",
      "     ------------------                       17.6/38.2 MB 3.5 MB/s eta 0:00:06\n",
      "     ------------------                       17.7/38.2 MB 3.4 MB/s eta 0:00:06\n",
      "     ------------------                       17.9/38.2 MB 3.5 MB/s eta 0:00:06\n",
      "     ------------------                       18.1/38.2 MB 3.4 MB/s eta 0:00:06\n",
      "     -------------------                      18.3/38.2 MB 3.6 MB/s eta 0:00:06\n",
      "     -------------------                      18.5/38.2 MB 3.6 MB/s eta 0:00:06\n",
      "     -------------------                      18.6/38.2 MB 3.6 MB/s eta 0:00:06\n",
      "     -------------------                      18.8/38.2 MB 3.7 MB/s eta 0:00:06\n",
      "     -------------------                      19.0/38.2 MB 3.7 MB/s eta 0:00:06\n",
      "     --------------------                     19.2/38.2 MB 3.8 MB/s eta 0:00:06\n",
      "     --------------------                     19.4/38.2 MB 3.9 MB/s eta 0:00:05\n",
      "     --------------------                     19.5/38.2 MB 3.9 MB/s eta 0:00:05\n",
      "     --------------------                     19.7/38.2 MB 3.9 MB/s eta 0:00:05\n",
      "     --------------------                     19.9/38.2 MB 3.9 MB/s eta 0:00:05\n",
      "     ---------------------                    20.1/38.2 MB 3.9 MB/s eta 0:00:05\n",
      "     ---------------------                    20.3/38.2 MB 3.9 MB/s eta 0:00:05\n",
      "     ---------------------                    20.4/38.2 MB 3.9 MB/s eta 0:00:05\n",
      "     ---------------------                    20.6/38.2 MB 3.9 MB/s eta 0:00:05\n",
      "     ---------------------                    20.8/38.2 MB 3.9 MB/s eta 0:00:05\n",
      "     ----------------------                   21.0/38.2 MB 3.9 MB/s eta 0:00:05\n",
      "     ----------------------                   21.2/38.2 MB 3.9 MB/s eta 0:00:05\n",
      "     ----------------------                   21.4/38.2 MB 3.9 MB/s eta 0:00:05\n",
      "     ----------------------                   21.5/38.2 MB 3.9 MB/s eta 0:00:05\n",
      "     ----------------------                   21.7/38.2 MB 3.9 MB/s eta 0:00:05\n",
      "     ----------------------                   21.9/38.2 MB 3.9 MB/s eta 0:00:05\n",
      "     -----------------------                  22.1/38.2 MB 3.9 MB/s eta 0:00:05\n",
      "     -----------------------                  22.3/38.2 MB 3.9 MB/s eta 0:00:05\n",
      "     -----------------------                  22.4/38.2 MB 3.9 MB/s eta 0:00:05\n",
      "     -----------------------                  22.6/38.2 MB 3.9 MB/s eta 0:00:04\n",
      "     -----------------------                  22.8/38.2 MB 3.9 MB/s eta 0:00:04\n",
      "     ------------------------                 23.0/38.2 MB 3.9 MB/s eta 0:00:04\n",
      "     ------------------------                 23.2/38.2 MB 3.9 MB/s eta 0:00:04\n",
      "     ------------------------                 23.3/38.2 MB 3.9 MB/s eta 0:00:04\n",
      "     ------------------------                 23.5/38.2 MB 3.9 MB/s eta 0:00:04\n",
      "     ------------------------                 23.7/38.2 MB 3.9 MB/s eta 0:00:04\n",
      "     -------------------------                23.9/38.2 MB 3.9 MB/s eta 0:00:04\n",
      "     -------------------------                24.1/38.2 MB 3.9 MB/s eta 0:00:04\n",
      "     -------------------------                24.2/38.2 MB 3.9 MB/s eta 0:00:04\n",
      "     -------------------------                24.4/38.2 MB 3.9 MB/s eta 0:00:04\n",
      "     -------------------------                24.6/38.2 MB 3.9 MB/s eta 0:00:04\n",
      "     -------------------------                24.8/38.2 MB 3.9 MB/s eta 0:00:04\n",
      "     --------------------------               24.9/38.2 MB 3.9 MB/s eta 0:00:04\n",
      "     --------------------------               25.1/38.2 MB 3.9 MB/s eta 0:00:04\n",
      "     --------------------------               25.3/38.2 MB 3.9 MB/s eta 0:00:04\n",
      "     --------------------------               25.5/38.2 MB 3.9 MB/s eta 0:00:04\n",
      "     --------------------------               25.7/38.2 MB 3.9 MB/s eta 0:00:04\n",
      "     ---------------------------              25.9/38.2 MB 3.9 MB/s eta 0:00:04\n",
      "     ---------------------------              26.0/38.2 MB 3.9 MB/s eta 0:00:04\n",
      "     ---------------------------              26.2/38.2 MB 3.9 MB/s eta 0:00:04\n",
      "     ---------------------------              26.4/38.2 MB 3.9 MB/s eta 0:00:04\n",
      "     ---------------------------              26.6/38.2 MB 3.9 MB/s eta 0:00:03\n",
      "     ----------------------------             26.8/38.2 MB 3.9 MB/s eta 0:00:03\n",
      "     ----------------------------             26.9/38.2 MB 3.9 MB/s eta 0:00:03\n",
      "     ----------------------------             27.1/38.2 MB 3.9 MB/s eta 0:00:03\n",
      "     ----------------------------             27.3/38.2 MB 3.9 MB/s eta 0:00:03\n",
      "     ----------------------------             27.5/38.2 MB 3.9 MB/s eta 0:00:03\n",
      "     ----------------------------             27.7/38.2 MB 3.9 MB/s eta 0:00:03\n",
      "     -----------------------------            27.8/38.2 MB 3.9 MB/s eta 0:00:03\n",
      "     -----------------------------            28.0/38.2 MB 3.9 MB/s eta 0:00:03\n",
      "     -----------------------------            28.2/38.2 MB 3.9 MB/s eta 0:00:03\n",
      "     -----------------------------            28.4/38.2 MB 3.9 MB/s eta 0:00:03\n",
      "     -----------------------------            28.6/38.2 MB 3.9 MB/s eta 0:00:03\n",
      "     ------------------------------           28.7/38.2 MB 3.9 MB/s eta 0:00:03\n",
      "     ------------------------------           28.9/38.2 MB 3.9 MB/s eta 0:00:03\n",
      "     ------------------------------           29.1/38.2 MB 3.9 MB/s eta 0:00:03\n",
      "     ------------------------------           29.3/38.2 MB 3.9 MB/s eta 0:00:03\n",
      "     ------------------------------           29.5/38.2 MB 3.9 MB/s eta 0:00:03\n",
      "     -------------------------------          29.7/38.2 MB 3.9 MB/s eta 0:00:03\n",
      "     -------------------------------          29.8/38.2 MB 3.9 MB/s eta 0:00:03\n",
      "     -------------------------------          30.0/38.2 MB 3.9 MB/s eta 0:00:03\n",
      "     -------------------------------          30.2/38.2 MB 3.9 MB/s eta 0:00:03\n",
      "     -------------------------------          30.3/38.2 MB 3.9 MB/s eta 0:00:03\n",
      "     --------------------------------         30.5/38.2 MB 3.9 MB/s eta 0:00:02\n",
      "     --------------------------------         30.7/38.2 MB 3.9 MB/s eta 0:00:02\n",
      "     --------------------------------         30.9/38.2 MB 3.9 MB/s eta 0:00:02\n",
      "     --------------------------------         31.1/38.2 MB 3.9 MB/s eta 0:00:02\n",
      "     --------------------------------         31.3/38.2 MB 3.9 MB/s eta 0:00:02\n",
      "     --------------------------------         31.5/38.2 MB 3.9 MB/s eta 0:00:02\n",
      "     ---------------------------------        31.6/38.2 MB 3.9 MB/s eta 0:00:02\n",
      "     ---------------------------------        31.8/38.2 MB 3.9 MB/s eta 0:00:02\n",
      "     ---------------------------------        32.0/38.2 MB 3.9 MB/s eta 0:00:02\n",
      "     ---------------------------------        32.2/38.2 MB 3.9 MB/s eta 0:00:02\n",
      "     ---------------------------------        32.3/38.2 MB 3.9 MB/s eta 0:00:02\n",
      "     ----------------------------------       32.5/38.2 MB 3.9 MB/s eta 0:00:02\n",
      "     ----------------------------------       32.7/38.2 MB 3.9 MB/s eta 0:00:02\n",
      "     ----------------------------------       32.9/38.2 MB 3.9 MB/s eta 0:00:02\n",
      "     ----------------------------------       33.1/38.2 MB 3.9 MB/s eta 0:00:02\n",
      "     ----------------------------------       33.3/38.2 MB 3.9 MB/s eta 0:00:02\n",
      "     -----------------------------------      33.4/38.2 MB 3.9 MB/s eta 0:00:02\n",
      "     -----------------------------------      33.6/38.2 MB 3.9 MB/s eta 0:00:02\n",
      "     -----------------------------------      33.8/38.2 MB 3.9 MB/s eta 0:00:02\n",
      "     -----------------------------------      34.0/38.2 MB 3.9 MB/s eta 0:00:02\n",
      "     -----------------------------------      34.2/38.2 MB 3.9 MB/s eta 0:00:02\n",
      "     -----------------------------------      34.3/38.2 MB 3.9 MB/s eta 0:00:01\n",
      "     ------------------------------------     34.5/38.2 MB 3.9 MB/s eta 0:00:01\n",
      "     ------------------------------------     34.7/38.2 MB 3.9 MB/s eta 0:00:01\n",
      "     ------------------------------------     34.9/38.2 MB 3.9 MB/s eta 0:00:01\n",
      "     ------------------------------------     35.1/38.2 MB 3.9 MB/s eta 0:00:01\n",
      "     ------------------------------------     35.3/38.2 MB 3.9 MB/s eta 0:00:01\n",
      "     -------------------------------------    35.4/38.2 MB 3.9 MB/s eta 0:00:01\n",
      "     -------------------------------------    35.6/38.2 MB 3.9 MB/s eta 0:00:01\n",
      "     -------------------------------------    35.8/38.2 MB 3.9 MB/s eta 0:00:01\n",
      "     -------------------------------------    36.0/38.2 MB 3.9 MB/s eta 0:00:01\n",
      "     -------------------------------------    36.1/38.2 MB 3.9 MB/s eta 0:00:01\n",
      "     --------------------------------------   36.3/38.2 MB 3.9 MB/s eta 0:00:01\n",
      "     --------------------------------------   36.5/38.2 MB 3.9 MB/s eta 0:00:01\n",
      "     --------------------------------------   36.7/38.2 MB 3.9 MB/s eta 0:00:01\n",
      "     --------------------------------------   36.9/38.2 MB 3.9 MB/s eta 0:00:01\n",
      "     --------------------------------------   37.1/38.2 MB 3.9 MB/s eta 0:00:01\n",
      "     ---------------------------------------  37.2/38.2 MB 3.9 MB/s eta 0:00:01\n",
      "     ---------------------------------------  37.4/38.2 MB 3.9 MB/s eta 0:00:01\n",
      "     ---------------------------------------  37.6/38.2 MB 3.9 MB/s eta 0:00:01\n",
      "     ---------------------------------------  37.8/38.2 MB 3.9 MB/s eta 0:00:01\n",
      "     ---------------------------------------  38.0/38.2 MB 3.9 MB/s eta 0:00:01\n",
      "     ---------------------------------------  38.1/38.2 MB 3.9 MB/s eta 0:00:01\n",
      "     ---------------------------------------  38.2/38.2 MB 3.9 MB/s eta 0:00:01\n",
      "     ---------------------------------------- 38.2/38.2 MB 3.8 MB/s eta 0:00:00\n",
      "Collecting numpy>=1.21.2 (from opencv-python)\n",
      "  Downloading numpy-1.24.3-cp310-cp310-win_amd64.whl (14.8 MB)\n",
      "                                              0.0/14.8 MB ? eta -:--:--\n",
      "                                              0.2/14.8 MB 5.8 MB/s eta 0:00:03\n",
      "     -                                        0.6/14.8 MB 7.1 MB/s eta 0:00:03\n",
      "     --                                       0.9/14.8 MB 7.0 MB/s eta 0:00:03\n",
      "     --                                       1.1/14.8 MB 6.2 MB/s eta 0:00:03\n",
      "     ---                                      1.3/14.8 MB 5.7 MB/s eta 0:00:03\n",
      "     ---                                      1.4/14.8 MB 5.4 MB/s eta 0:00:03\n",
      "     ----                                     1.6/14.8 MB 5.1 MB/s eta 0:00:03\n",
      "     ----                                     1.8/14.8 MB 4.9 MB/s eta 0:00:03\n",
      "     -----                                    2.0/14.8 MB 4.8 MB/s eta 0:00:03\n",
      "     -----                                    2.2/14.8 MB 4.7 MB/s eta 0:00:03\n",
      "     ------                                   2.3/14.8 MB 4.6 MB/s eta 0:00:03\n",
      "     ------                                   2.5/14.8 MB 4.6 MB/s eta 0:00:03\n",
      "     -------                                  2.7/14.8 MB 4.5 MB/s eta 0:00:03\n",
      "     -------                                  2.9/14.8 MB 4.5 MB/s eta 0:00:03\n",
      "     --------                                 3.1/14.8 MB 4.4 MB/s eta 0:00:03\n",
      "     --------                                 3.2/14.8 MB 4.4 MB/s eta 0:00:03\n",
      "     ---------                                3.4/14.8 MB 4.3 MB/s eta 0:00:03\n",
      "     ---------                                3.6/14.8 MB 4.3 MB/s eta 0:00:03\n",
      "     ----------                               3.8/14.8 MB 4.3 MB/s eta 0:00:03\n",
      "     ----------                               3.9/14.8 MB 4.3 MB/s eta 0:00:03\n",
      "     -----------                              4.1/14.8 MB 4.2 MB/s eta 0:00:03\n",
      "     -----------                              4.3/14.8 MB 4.2 MB/s eta 0:00:03\n",
      "     ------------                             4.5/14.8 MB 4.2 MB/s eta 0:00:03\n",
      "     ------------                             4.7/14.8 MB 4.2 MB/s eta 0:00:03\n",
      "     -------------                            4.8/14.8 MB 4.2 MB/s eta 0:00:03\n",
      "     -------------                            5.0/14.8 MB 4.2 MB/s eta 0:00:03\n",
      "     --------------                           5.2/14.8 MB 4.2 MB/s eta 0:00:03\n",
      "     --------------                           5.4/14.8 MB 4.2 MB/s eta 0:00:03\n",
      "     ---------------                          5.6/14.8 MB 4.1 MB/s eta 0:00:03\n",
      "     ---------------                          5.7/14.8 MB 4.2 MB/s eta 0:00:03\n",
      "     ---------------                          5.9/14.8 MB 4.2 MB/s eta 0:00:03\n",
      "     ----------------                         6.1/14.8 MB 4.1 MB/s eta 0:00:03\n",
      "     -----------------                        6.3/14.8 MB 4.1 MB/s eta 0:00:03\n",
      "     -----------------                        6.5/14.8 MB 4.1 MB/s eta 0:00:03\n",
      "     ------------------                       6.7/14.8 MB 4.1 MB/s eta 0:00:02\n",
      "     ------------------                       6.9/14.8 MB 4.1 MB/s eta 0:00:02\n",
      "     -------------------                      7.1/14.8 MB 4.1 MB/s eta 0:00:02\n",
      "     -------------------                      7.2/14.8 MB 4.1 MB/s eta 0:00:02\n",
      "     --------------------                     7.4/14.8 MB 4.1 MB/s eta 0:00:02\n",
      "     --------------------                     7.6/14.8 MB 4.1 MB/s eta 0:00:02\n",
      "     ---------------------                    7.8/14.8 MB 4.1 MB/s eta 0:00:02\n",
      "     ---------------------                    8.0/14.8 MB 4.1 MB/s eta 0:00:02\n",
      "     ---------------------                    8.2/14.8 MB 4.1 MB/s eta 0:00:02\n",
      "     ----------------------                   8.3/14.8 MB 4.1 MB/s eta 0:00:02\n",
      "     ----------------------                   8.5/14.8 MB 4.1 MB/s eta 0:00:02\n",
      "     -----------------------                  8.7/14.8 MB 4.1 MB/s eta 0:00:02\n",
      "     -----------------------                  8.9/14.8 MB 4.1 MB/s eta 0:00:02\n",
      "     ------------------------                 9.1/14.8 MB 4.0 MB/s eta 0:00:02\n",
      "     ------------------------                 9.2/14.8 MB 4.0 MB/s eta 0:00:02\n",
      "     -------------------------                9.4/14.8 MB 4.0 MB/s eta 0:00:02\n",
      "     -------------------------                9.6/14.8 MB 4.0 MB/s eta 0:00:02\n",
      "     --------------------------               9.8/14.8 MB 4.0 MB/s eta 0:00:02\n",
      "     --------------------------               10.0/14.8 MB 4.0 MB/s eta 0:00:02\n",
      "     ---------------------------              10.1/14.8 MB 4.0 MB/s eta 0:00:02\n",
      "     ---------------------------              10.3/14.8 MB 4.0 MB/s eta 0:00:02\n",
      "     ----------------------------             10.5/14.8 MB 4.0 MB/s eta 0:00:02\n",
      "     ----------------------------             10.6/14.8 MB 3.9 MB/s eta 0:00:02\n",
      "     ----------------------------             10.7/14.8 MB 3.9 MB/s eta 0:00:02\n",
      "     ----------------------------             10.7/14.8 MB 3.9 MB/s eta 0:00:02\n",
      "     ----------------------------             10.7/14.8 MB 3.9 MB/s eta 0:00:02\n",
      "     ----------------------------             10.7/14.8 MB 3.9 MB/s eta 0:00:02\n",
      "     ----------------------------             10.7/14.8 MB 3.9 MB/s eta 0:00:02\n",
      "     -----------------------------            10.9/14.8 MB 3.6 MB/s eta 0:00:02\n",
      "     ------------------------------           11.3/14.8 MB 3.7 MB/s eta 0:00:01\n",
      "     -------------------------------          11.6/14.8 MB 3.7 MB/s eta 0:00:01\n",
      "     -------------------------------          11.7/14.8 MB 3.7 MB/s eta 0:00:01\n",
      "     -------------------------------          11.8/14.8 MB 3.7 MB/s eta 0:00:01\n",
      "     --------------------------------         12.1/14.8 MB 3.7 MB/s eta 0:00:01\n",
      "     ---------------------------------        12.2/14.8 MB 3.7 MB/s eta 0:00:01\n",
      "     ---------------------------------        12.4/14.8 MB 3.7 MB/s eta 0:00:01\n",
      "     ----------------------------------       12.6/14.8 MB 3.7 MB/s eta 0:00:01\n",
      "     ----------------------------------       12.8/14.8 MB 3.7 MB/s eta 0:00:01\n",
      "     ----------------------------------       13.0/14.8 MB 3.7 MB/s eta 0:00:01\n",
      "     -----------------------------------      13.1/14.8 MB 3.7 MB/s eta 0:00:01\n",
      "     -----------------------------------      13.3/14.8 MB 3.7 MB/s eta 0:00:01\n",
      "     ------------------------------------     13.5/14.8 MB 3.7 MB/s eta 0:00:01\n",
      "     ------------------------------------     13.7/14.8 MB 3.7 MB/s eta 0:00:01\n",
      "     -------------------------------------    13.9/14.8 MB 3.7 MB/s eta 0:00:01\n",
      "     -------------------------------------    14.0/14.8 MB 3.7 MB/s eta 0:00:01\n",
      "     --------------------------------------   14.2/14.8 MB 3.7 MB/s eta 0:00:01\n",
      "     --------------------------------------   14.4/14.8 MB 3.7 MB/s eta 0:00:01\n",
      "     ---------------------------------------  14.6/14.8 MB 3.7 MB/s eta 0:00:01\n",
      "     ---------------------------------------  14.8/14.8 MB 3.7 MB/s eta 0:00:01\n",
      "     ---------------------------------------  14.8/14.8 MB 3.7 MB/s eta 0:00:01\n",
      "     ---------------------------------------- 14.8/14.8 MB 3.6 MB/s eta 0:00:00\n",
      "Installing collected packages: numpy, opencv-python\n",
      "Successfully installed numpy-1.24.3 opencv-python-4.7.0.72\n"
     ]
    }
   ],
   "source": [
    "!pip install opencv-python"
   ]
  },
  {
   "cell_type": "code",
   "execution_count": 2,
   "metadata": {},
   "outputs": [],
   "source": [
    "# Import opencv\n",
    "import cv2 \n",
    "\n",
    "# Import uuid (unique identifier)\n",
    "import uuid\n",
    "\n",
    "# Import Operating System\n",
    "import os\n",
    "\n",
    "# Import time\n",
    "import time"
   ]
  },
  {
   "cell_type": "markdown",
   "metadata": {},
   "source": [
    "# 2. Define Images to Collect"
   ]
  },
  {
   "cell_type": "code",
   "execution_count": 4,
   "metadata": {},
   "outputs": [],
   "source": [
    "labels = ['thumbsup', 'thumbsdown', 'thankyou', 'livelong']\n",
    "number_imgs = 5  #number of images"
   ]
  },
  {
   "cell_type": "markdown",
   "metadata": {},
   "source": [
    "# 3. Setup Folders "
   ]
  },
  {
   "cell_type": "code",
   "execution_count": 6,
   "metadata": {},
   "outputs": [],
   "source": [
    "IMAGES_PATH = os.path.join('Tensorflow', 'workspace', 'images', 'collectedimages')"
   ]
  },
  {
   "cell_type": "code",
   "execution_count": 7,
   "metadata": {},
   "outputs": [
    {
     "data": {
      "text/plain": [
       "'Tensorflow\\\\workspace\\\\images\\\\collectedimages'"
      ]
     },
     "execution_count": 7,
     "metadata": {},
     "output_type": "execute_result"
    }
   ],
   "source": [
    "IMAGES_PATH\n"
   ]
  },
  {
   "cell_type": "code",
   "execution_count": 8,
   "metadata": {},
   "outputs": [
    {
     "name": "stderr",
     "output_type": "stream",
     "text": [
      "A subdirectory or file # already exists.\n",
      "Error occurred while processing: #.\n",
      "A subdirectory or file making already exists.\n",
      "Error occurred while processing: making.\n",
      "A subdirectory or file # already exists.\n",
      "Error occurred while processing: #.\n",
      "A subdirectory or file making already exists.\n",
      "Error occurred while processing: making.\n",
      "A subdirectory or file path already exists.\n",
      "Error occurred while processing: path.\n",
      "A subdirectory or file # already exists.\n",
      "Error occurred while processing: #.\n",
      "A subdirectory or file making already exists.\n",
      "Error occurred while processing: making.\n",
      "A subdirectory or file path already exists.\n",
      "Error occurred while processing: path.\n",
      "A subdirectory or file # already exists.\n",
      "Error occurred while processing: #.\n",
      "A subdirectory or file making already exists.\n",
      "Error occurred while processing: making.\n",
      "A subdirectory or file path already exists.\n",
      "Error occurred while processing: path.\n"
     ]
    }
   ],
   "source": [
    "if not os.path.exists(IMAGES_PATH):\n",
    "    if os.name == 'posix':  # for linux\n",
    "        !mkdir -p {IMAGES_PATH}\n",
    "    if os.name == 'nt':  # for windows\n",
    "         !mkdir {IMAGES_PATH} # making directory\n",
    "for label in labels:   \n",
    "    path = os.path.join(IMAGES_PATH, label)  # checking and creating folders of lable named\n",
    "    if not os.path.exists(path):\n",
    "        !mkdir {path} # making path"
   ]
  },
  {
   "cell_type": "markdown",
   "metadata": {},
   "source": [
    "# 4. Capture Images"
   ]
  },
  {
   "cell_type": "code",
   "execution_count": 10,
   "metadata": {},
   "outputs": [
    {
     "name": "stdout",
     "output_type": "stream",
     "text": [
      "Collecting images for thumbsup\n",
      "Collecting image 0\n",
      "Collecting image 1\n",
      "Collecting image 2\n",
      "Collecting image 3\n",
      "Collecting image 4\n",
      "Collecting images for thumbsdown\n",
      "Collecting image 0\n",
      "Collecting image 1\n",
      "Collecting image 2\n",
      "Collecting image 3\n",
      "Collecting image 4\n",
      "Collecting images for thankyou\n",
      "Collecting image 0\n",
      "Collecting image 1\n",
      "Collecting image 2\n",
      "Collecting image 3\n",
      "Collecting image 4\n",
      "Collecting images for livelong\n",
      "Collecting image 0\n",
      "Collecting image 1\n",
      "Collecting image 2\n",
      "Collecting image 3\n",
      "Collecting image 4\n"
     ]
    }
   ],
   "source": [
    "for label in labels:\n",
    "    cap = cv2.VideoCapture(0) # connects to our webcam and here we are passing the 0 argument as we have to connect with our webcam it is different for everything hopefully this will connect to our webcam in windws for linux or mac we need to do it with different digit\n",
    "    print('Collecting images for {}'.format(label))  # showing the label and \n",
    "    time.sleep(15) # waits for 5 secs\n",
    "    for imgnum in range(number_imgs): # loops for 5 times here \n",
    "        print('Collecting image {}'.format(imgnum)) # collects files\n",
    "        ret, frame = cap.read() # reads\n",
    "        imgname = os.path.join(IMAGES_PATH,label,label+'.'+'{}.jpg'.format(str(uuid.uuid1())))  # \n",
    "        cv2.imwrite(imgname, frame)\n",
    "        cv2.imshow('frame', frame)\n",
    "        time.sleep(2)\n",
    "\n",
    "        if cv2.waitKey(1) & 0xFF == ord('q'):\n",
    "            break\n",
    "cap.release()\n",
    "cv2.destroyAllWindows()"
   ]
  },
  {
   "cell_type": "markdown",
   "metadata": {},
   "source": [
    "# 5. Image Labelling"
   ]
  },
  {
   "cell_type": "code",
   "execution_count": 10,
   "metadata": {},
   "outputs": [
    {
     "name": "stdout",
     "output_type": "stream",
     "text": [
      "Collecting pyqt5\n",
      "  Using cached PyQt5-5.15.4-cp36.cp37.cp38.cp39-none-win_amd64.whl (6.8 MB)\n",
      "Collecting lxml\n",
      "  Using cached lxml-4.6.3-cp37-cp37m-win_amd64.whl (3.5 MB)\n",
      "Collecting PyQt5-sip<13,>=12.8\n",
      "  Using cached PyQt5_sip-12.8.1-cp37-cp37m-win_amd64.whl (62 kB)\n",
      "Collecting PyQt5-Qt5>=5.15\n",
      "  Using cached PyQt5_Qt5-5.15.2-py3-none-win_amd64.whl (50.1 MB)\n",
      "Installing collected packages: PyQt5-sip, PyQt5-Qt5, pyqt5, lxml\n",
      "Successfully installed PyQt5-Qt5-5.15.2 PyQt5-sip-12.8.1 lxml-4.6.3 pyqt5-5.15.4\n"
     ]
    }
   ],
   "source": [
    "!pip install --upgrade pyqt5 lxml"
   ]
  },
  {
   "cell_type": "code",
   "execution_count": 11,
   "metadata": {},
   "outputs": [],
   "source": [
    "LABELIMG_PATH = os.path.join('Tensorflow', 'labelimg')"
   ]
  },
  {
   "cell_type": "code",
   "execution_count": 12,
   "metadata": {},
   "outputs": [
    {
     "name": "stderr",
     "output_type": "stream",
     "text": [
      "Cloning into 'Tensorflow\\labelimg'...\n"
     ]
    }
   ],
   "source": [
    "if not os.path.exists(LABELIMG_PATH):\n",
    "    !mkdir {LABELIMG_PATH}\n",
    "    !git clone https://github.com/tzutalin/labelImg {LABELIMG_PATH}"
   ]
  },
  {
   "cell_type": "code",
   "execution_count": 13,
   "metadata": {},
   "outputs": [],
   "source": [
    "if os.name == 'posix':\n",
    "    !make qt5py3\n",
    "if os.name =='nt':\n",
    "    !cd {LABELIMG_PATH} && pyrcc5 -o libs/resources.py resources.qrc"
   ]
  },
  {
   "cell_type": "code",
   "execution_count": 19,
   "metadata": {},
   "outputs": [
    {
     "name": "stdout",
     "output_type": "stream",
     "text": [
      "Image:D:\\YouTube\\OD\\TFODCourse\\Tensorflow\\workspace\\images\\collectedimages\\thumbsup\\thumbsup.6a706a36-940f-11eb-b4eb-5cf3709bbcc6.jpg -> Annotation:D:/YouTube/OD/TFODCourse/Tensorflow/workspace/images/collectedimages/thumbsup/thumbsup.6a706a36-940f-11eb-b4eb-5cf3709bbcc6.xml\n",
      "Image:D:\\YouTube\\OD\\TFODCourse\\Tensorflow\\workspace\\images\\collectedimages\\thumbsup\\thumbsup.6ba4d864-940f-11eb-8c74-5cf3709bbcc6.jpg -> Annotation:D:/YouTube/OD/TFODCourse/Tensorflow/workspace/images/collectedimages/thumbsup/thumbsup.6ba4d864-940f-11eb-8c74-5cf3709bbcc6.xml\n",
      "Image:D:\\YouTube\\OD\\TFODCourse\\Tensorflow\\workspace\\images\\collectedimages\\thumbsup\\thumbsup.6cd9c8e2-940f-11eb-b901-5cf3709bbcc6.jpg -> Annotation:D:/YouTube/OD/TFODCourse/Tensorflow/workspace/images/collectedimages/thumbsup/thumbsup.6cd9c8e2-940f-11eb-b901-5cf3709bbcc6.xml\n",
      "Image:D:\\YouTube\\OD\\TFODCourse\\Tensorflow\\workspace\\images\\collectedimages\\thumbsup\\thumbsup.6e0f5bc0-940f-11eb-8d18-5cf3709bbcc6.jpg -> Annotation:D:/YouTube/OD/TFODCourse/Tensorflow/workspace/images/collectedimages/thumbsup/thumbsup.6e0f5bc0-940f-11eb-8d18-5cf3709bbcc6.xml\n",
      "Image:D:\\YouTube\\OD\\TFODCourse\\Tensorflow\\workspace\\images\\collectedimages\\thumbsup\\thumbsup.693a5158-940f-11eb-8752-5cf3709bbcc6.jpg -> Annotation:D:/YouTube/OD/TFODCourse/Tensorflow/workspace/images/collectedimages/thumbsup/thumbsup.693a5158-940f-11eb-8752-5cf3709bbcc6.xml\n"
     ]
    }
   ],
   "source": [
    "!cd {LABELIMG_PATH} && python labelImg.py"
   ]
  },
  {
   "cell_type": "markdown",
   "metadata": {},
   "source": [
    "# 6. Move them into a Training and Testing Partition"
   ]
  },
  {
   "cell_type": "markdown",
   "metadata": {},
   "source": [
    "# OPTIONAL - 7. Compress them for Colab Training"
   ]
  },
  {
   "cell_type": "code",
   "execution_count": 20,
   "metadata": {},
   "outputs": [],
   "source": [
    "TRAIN_PATH = os.path.join('Tensorflow', 'workspace', 'images', 'train')\n",
    "TEST_PATH = os.path.join('Tensorflow', 'workspace', 'images', 'test')\n",
    "ARCHIVE_PATH = os.path.join('Tensorflow', 'workspace', 'images', 'archive.tar.gz')"
   ]
  },
  {
   "cell_type": "code",
   "execution_count": 21,
   "metadata": {},
   "outputs": [],
   "source": [
    "!tar -czf {ARCHIVE_PATH} {TRAIN_PATH} {TEST_PATH}"
   ]
  },
  {
   "cell_type": "code",
   "execution_count": null,
   "metadata": {},
   "outputs": [],
   "source": []
  }
 ],
 "metadata": {
  "kernelspec": {
   "display_name": "tfod",
   "language": "python",
   "name": "tfod"
  },
  "language_info": {
   "codemirror_mode": {
    "name": "ipython",
    "version": 3
   },
   "file_extension": ".py",
   "mimetype": "text/x-python",
   "name": "python",
   "nbconvert_exporter": "python",
   "pygments_lexer": "ipython3",
   "version": "3.10.9"
  }
 },
 "nbformat": 4,
 "nbformat_minor": 2
}
